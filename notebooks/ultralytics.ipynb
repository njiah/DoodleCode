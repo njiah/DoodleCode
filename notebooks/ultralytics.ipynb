{
 "cells": [
  {
   "cell_type": "code",
   "execution_count": 1,
   "id": "e99a82b0-77cc-4ca1-81d8-414d52aa8ce2",
   "metadata": {},
   "outputs": [
    {
     "name": "stderr",
     "output_type": "stream",
     "text": [
      "2024-05-07 19:36:30.362411: E external/local_xla/xla/stream_executor/cuda/cuda_dnn.cc:9261] Unable to register cuDNN factory: Attempting to register factory for plugin cuDNN when one has already been registered\n",
      "2024-05-07 19:36:30.362461: E external/local_xla/xla/stream_executor/cuda/cuda_fft.cc:607] Unable to register cuFFT factory: Attempting to register factory for plugin cuFFT when one has already been registered\n",
      "2024-05-07 19:36:30.363155: E external/local_xla/xla/stream_executor/cuda/cuda_blas.cc:1515] Unable to register cuBLAS factory: Attempting to register factory for plugin cuBLAS when one has already been registered\n",
      "2024-05-07 19:36:30.368619: I tensorflow/core/platform/cpu_feature_guard.cc:182] This TensorFlow binary is optimized to use available CPU instructions in performance-critical operations.\n",
      "To enable the following instructions: AVX2 FMA, in other operations, rebuild TensorFlow with the appropriate compiler flags.\n",
      "2024-05-07 19:36:30.993165: W tensorflow/compiler/tf2tensorrt/utils/py_utils.cc:38] TF-TRT Warning: Could not find TensorRT\n"
     ]
    },
    {
     "name": "stdout",
     "output_type": "stream",
     "text": [
      "Using TensorFlow backend\n"
     ]
    }
   ],
   "source": [
    "import doodlecode as doodle\n",
    "dc = doodle.DoodleCode()"
   ]
  },
  {
   "cell_type": "code",
   "execution_count": 3,
   "id": "e0b77280-a456-44f0-bc39-864e62d4fd7f",
   "metadata": {},
   "outputs": [
    {
     "name": "stdout",
     "output_type": "stream",
     "text": [
      "\n",
      "image 1/1 /home/nysa/doodlecode/datasets/yolo-v8/test/images/12_jpeg.rf.09ef5ab9a0e4a83fd34e97dca3c0fc70.jpg: 640x640 3 buttons, 4 images, 1 input, 4 links, 4 radios, 7.3ms\n",
      "Speed: 4.7ms preprocess, 7.3ms inference, 548.5ms postprocess per image at shape (1, 3, 640, 640)\n",
      "Results saved to \u001b[1mruns/detect/predict6\u001b[0m\n",
      "ultralytics.engine.results.Results object with attributes:\n",
      "\n",
      "boxes: ultralytics.engine.results.Boxes object\n",
      "keypoints: None\n",
      "masks: None\n",
      "names: {0: 'button', 1: 'checkbox', 2: 'container', 3: 'icon-button', 4: 'image', 5: 'input', 6: 'label', 7: 'link', 8: 'number-input', 9: 'radio', 10: 'search', 11: 'select', 12: 'slider', 13: 'table', 14: 'text', 15: 'textarea', 16: 'textbox', 17: 'toggle'}\n",
      "obb: None\n",
      "orig_img: array([[[255, 255, 255],\n",
      "        [255, 255, 255],\n",
      "        [255, 255, 255],\n",
      "        ...,\n",
      "        [255, 255, 255],\n",
      "        [255, 255, 255],\n",
      "        [255, 255, 255]],\n",
      "\n",
      "       [[255, 255, 255],\n",
      "        [255, 255, 255],\n",
      "        [255, 255, 255],\n",
      "        ...,\n",
      "        [255, 255, 255],\n",
      "        [255, 255, 255],\n",
      "        [255, 255, 255]],\n",
      "\n",
      "       [[255, 255, 255],\n",
      "        [255, 255, 255],\n",
      "        [255, 255, 255],\n",
      "        ...,\n",
      "        [255, 255, 255],\n",
      "        [255, 255, 255],\n",
      "        [255, 255, 255]],\n",
      "\n",
      "       ...,\n",
      "\n",
      "       [[255, 255, 255],\n",
      "        [255, 255, 255],\n",
      "        [255, 255, 255],\n",
      "        ...,\n",
      "        [255, 255, 255],\n",
      "        [255, 255, 255],\n",
      "        [255, 255, 255]],\n",
      "\n",
      "       [[255, 255, 255],\n",
      "        [255, 255, 255],\n",
      "        [255, 255, 255],\n",
      "        ...,\n",
      "        [255, 255, 255],\n",
      "        [255, 255, 255],\n",
      "        [255, 255, 255]],\n",
      "\n",
      "       [[255, 255, 255],\n",
      "        [255, 255, 255],\n",
      "        [255, 255, 255],\n",
      "        ...,\n",
      "        [255, 255, 255],\n",
      "        [255, 255, 255],\n",
      "        [255, 255, 255]]], dtype=uint8)\n",
      "orig_shape: (640, 640)\n",
      "path: '/home/nysa/doodlecode/datasets/yolo-v8/test/images/12_jpeg.rf.09ef5ab9a0e4a83fd34e97dca3c0fc70.jpg'\n",
      "probs: None\n",
      "save_dir: 'runs/detect/predict6'\n",
      "speed: {'preprocess': 4.720449447631836, 'inference': 7.3337554931640625, 'postprocess': 548.4979152679443}\n",
      "ultralytics.engine.results.Boxes object with attributes:\n",
      "\n",
      "cls: tensor([4., 4., 7., 0., 4., 7., 7., 7., 4., 0., 0., 9., 9., 9., 9., 5.], device='cuda:0')\n",
      "conf: tensor([0.9396, 0.9330, 0.9240, 0.9068, 0.9034, 0.9004, 0.8867, 0.8770, 0.8722, 0.8710, 0.8513, 0.8381, 0.8144, 0.8025, 0.8012, 0.6225], device='cuda:0')\n",
      "data: tensor([[ 49.8921, 156.0654,  95.0249, 187.7275,   0.9396,   4.0000],\n",
      "        [ 48.2171, 204.0638,  91.1322, 233.9276,   0.9330,   4.0000],\n",
      "        [105.1133, 216.0390, 211.1543, 238.0346,   0.9240,   7.0000],\n",
      "        [398.0210,  55.9814, 486.5791,  82.5420,   0.9068,   0.0000],\n",
      "        [ 46.4758, 302.4528, 103.2214, 334.5083,   0.9034,   4.0000],\n",
      "        [109.8730, 264.4549, 208.9540, 284.5728,   0.9004,   7.0000],\n",
      "        [116.5386, 165.3476, 216.3652, 187.3185,   0.8867,   7.0000],\n",
      "        [123.8185, 315.8969, 213.7732, 338.9405,   0.8770,   7.0000],\n",
      "        [ 44.2604, 256.8918,  97.2361, 284.9520,   0.8722,   4.0000],\n",
      "        [500.5275,  55.8481, 592.7411,  82.9629,   0.8710,   0.0000],\n",
      "        [282.2057,  57.0975, 371.2019,  82.5299,   0.8513,   0.0000],\n",
      "        [440.9023, 548.7290, 553.3496, 577.6558,   0.8381,   9.0000],\n",
      "        [206.4406, 550.7894, 336.3762, 578.8199,   0.8144,   9.0000],\n",
      "        [ 37.5312, 513.3546, 194.9476, 535.0541,   0.8025,   9.0000],\n",
      "        [331.0311, 510.7784, 475.2351, 535.3738,   0.8012,   9.0000],\n",
      "        [ 63.4299,  58.2040, 202.4438,  81.7898,   0.6225,   5.0000]], device='cuda:0')\n",
      "id: None\n",
      "is_track: False\n",
      "orig_shape: (640, 640)\n",
      "shape: torch.Size([16, 6])\n",
      "xywh: tensor([[ 72.4585, 171.8964,  45.1329,  31.6621],\n",
      "        [ 69.6747, 218.9957,  42.9151,  29.8638],\n",
      "        [158.1338, 227.0368, 106.0410,  21.9957],\n",
      "        [442.3000,  69.2617,  88.5581,  26.5606],\n",
      "        [ 74.8486, 318.4805,  56.7456,  32.0555],\n",
      "        [159.4135, 274.5139,  99.0810,  20.1179],\n",
      "        [166.4519, 176.3331,  99.8266,  21.9709],\n",
      "        [168.7959, 327.4187,  89.9547,  23.0436],\n",
      "        [ 70.7483, 270.9219,  52.9756,  28.0602],\n",
      "        [546.6343,  69.4055,  92.2136,  27.1148],\n",
      "        [326.7038,  69.8137,  88.9962,  25.4324],\n",
      "        [497.1260, 563.1924, 112.4473,  28.9268],\n",
      "        [271.4084, 564.8047, 129.9357,  28.0305],\n",
      "        [116.2394, 524.2043, 157.4163,  21.6995],\n",
      "        [403.1331, 523.0760, 144.2040,  24.5954],\n",
      "        [132.9368,  69.9969, 139.0139,  23.5857]], device='cuda:0')\n",
      "xywhn: tensor([[0.1132, 0.2686, 0.0705, 0.0495],\n",
      "        [0.1089, 0.3422, 0.0671, 0.0467],\n",
      "        [0.2471, 0.3547, 0.1657, 0.0344],\n",
      "        [0.6911, 0.1082, 0.1384, 0.0415],\n",
      "        [0.1170, 0.4976, 0.0887, 0.0501],\n",
      "        [0.2491, 0.4289, 0.1548, 0.0314],\n",
      "        [0.2601, 0.2755, 0.1560, 0.0343],\n",
      "        [0.2637, 0.5116, 0.1406, 0.0360],\n",
      "        [0.1105, 0.4233, 0.0828, 0.0438],\n",
      "        [0.8541, 0.1084, 0.1441, 0.0424],\n",
      "        [0.5105, 0.1091, 0.1391, 0.0397],\n",
      "        [0.7768, 0.8800, 0.1757, 0.0452],\n",
      "        [0.4241, 0.8825, 0.2030, 0.0438],\n",
      "        [0.1816, 0.8191, 0.2460, 0.0339],\n",
      "        [0.6299, 0.8173, 0.2253, 0.0384],\n",
      "        [0.2077, 0.1094, 0.2172, 0.0369]], device='cuda:0')\n",
      "xyxy: tensor([[ 49.8921, 156.0654,  95.0249, 187.7275],\n",
      "        [ 48.2171, 204.0638,  91.1322, 233.9276],\n",
      "        [105.1133, 216.0390, 211.1543, 238.0346],\n",
      "        [398.0210,  55.9814, 486.5791,  82.5420],\n",
      "        [ 46.4758, 302.4528, 103.2214, 334.5083],\n",
      "        [109.8730, 264.4549, 208.9540, 284.5728],\n",
      "        [116.5386, 165.3476, 216.3652, 187.3185],\n",
      "        [123.8185, 315.8969, 213.7732, 338.9405],\n",
      "        [ 44.2604, 256.8918,  97.2361, 284.9520],\n",
      "        [500.5275,  55.8481, 592.7411,  82.9629],\n",
      "        [282.2057,  57.0975, 371.2019,  82.5299],\n",
      "        [440.9023, 548.7290, 553.3496, 577.6558],\n",
      "        [206.4406, 550.7894, 336.3762, 578.8199],\n",
      "        [ 37.5312, 513.3546, 194.9476, 535.0541],\n",
      "        [331.0311, 510.7784, 475.2351, 535.3738],\n",
      "        [ 63.4299,  58.2040, 202.4438,  81.7898]], device='cuda:0')\n",
      "xyxyn: tensor([[0.0780, 0.2439, 0.1485, 0.2933],\n",
      "        [0.0753, 0.3188, 0.1424, 0.3655],\n",
      "        [0.1642, 0.3376, 0.3299, 0.3719],\n",
      "        [0.6219, 0.0875, 0.7603, 0.1290],\n",
      "        [0.0726, 0.4726, 0.1613, 0.5227],\n",
      "        [0.1717, 0.4132, 0.3265, 0.4446],\n",
      "        [0.1821, 0.2584, 0.3381, 0.2927],\n",
      "        [0.1935, 0.4936, 0.3340, 0.5296],\n",
      "        [0.0692, 0.4014, 0.1519, 0.4452],\n",
      "        [0.7821, 0.0873, 0.9262, 0.1296],\n",
      "        [0.4409, 0.0892, 0.5800, 0.1290],\n",
      "        [0.6889, 0.8574, 0.8646, 0.9026],\n",
      "        [0.3226, 0.8606, 0.5256, 0.9044],\n",
      "        [0.0586, 0.8021, 0.3046, 0.8360],\n",
      "        [0.5172, 0.7981, 0.7426, 0.8365],\n",
      "        [0.0991, 0.0909, 0.3163, 0.1278]], device='cuda:0')\n",
      "{0: 'button', 1: 'checkbox', 2: 'container', 3: 'icon-button', 4: 'image', 5: 'input', 6: 'label', 7: 'link', 8: 'number-input', 9: 'radio', 10: 'search', 11: 'select', 12: 'slider', 13: 'table', 14: 'text', 15: 'textarea', 16: 'textbox', 17: 'toggle'}\n"
     ]
    }
   ],
   "source": [
    "dc.predict(\"/home/nysa/doodlecode/datasets/yolo-v8/test/images/12_jpeg.rf.09ef5ab9a0e4a83fd34e97dca3c0fc70.jpg\", ultralytics=True)"
   ]
  },
  {
   "cell_type": "code",
   "execution_count": null,
   "id": "53ae9691-9864-4cf4-96de-f0c89ed8c2a7",
   "metadata": {},
   "outputs": [
    {
     "name": "stdout",
     "output_type": "stream",
     "text": [
      "Training model\n",
      "Class Mapping:  {0: 'button', 1: 'checkbox', 2: 'container', 3: 'icon-button', 4: 'image', 5: 'input', 6: 'label', 7: 'link', 8: 'number-input', 9: 'radio', 10: 'search', 11: 'select', 12: 'slider', 13: 'table', 14: 'text', 15: 'textarea', 16: 'textbox', 17: 'toggle', 18: 'pagination', 19: 'paragraph', 20: 'carousel', 21: 'heading'}\n",
      "Backbone:  yolo_v8_xs_backbone_coco\n",
      "Learning Rate:  0.01\n",
      "Number of Epochs:  10\n",
      "Split:  0.7\n",
      "Patience:  10\n",
      "Batch Size:  4\n",
      "Sorting data\n",
      "Total XML files: 3240\n",
      "Total JPEG files: 3240\n"
     ]
    },
    {
     "data": {
      "application/vnd.jupyter.widget-view+json": {
       "model_id": "8a1e801e2f6c45f6a99e800b2fc3a23c",
       "version_major": 2,
       "version_minor": 0
      },
      "text/plain": [
       "  0%|          | 0/3240 [00:00<?, ?it/s]"
      ]
     },
     "metadata": {},
     "output_type": "display_data"
    },
    {
     "name": "stdout",
     "output_type": "stream",
     "text": [
      "Generating data\n",
      "3240\n",
      "Train Size:  2268\n",
      "Validation Size:  972\n",
      "<_TakeDataset element_spec=(TensorSpec(shape=(), dtype=tf.string, name=None), RaggedTensorSpec(TensorShape([None]), tf.int32, 0, tf.int64), RaggedTensorSpec(TensorShape([None, None]), tf.float32, 1, tf.int64))>\n",
      "Augmenting data\n",
      "Backbone:  yolo_v8_xs_backbone_coco\n",
      "Number of Classes:  22\n",
      "Epoch 1/10\n",
      "546/567 [===========================>..] - ETA: 2s - loss: 11.0443 - box_loss: 2.0604 - class_loss: 8.9839"
     ]
    }
   ],
   "source": [
    "dc.train_model()"
   ]
  },
  {
   "cell_type": "code",
   "execution_count": null,
   "id": "5ad5a3de-75e6-47b7-bb5b-e8ddd3b30440",
   "metadata": {},
   "outputs": [],
   "source": []
  }
 ],
 "metadata": {
  "kernelspec": {
   "display_name": "Python 3 (ipykernel)",
   "language": "python",
   "name": "python3"
  },
  "language_info": {
   "codemirror_mode": {
    "name": "ipython",
    "version": 3
   },
   "file_extension": ".py",
   "mimetype": "text/x-python",
   "name": "python",
   "nbconvert_exporter": "python",
   "pygments_lexer": "ipython3",
   "version": "3.10.12"
  }
 },
 "nbformat": 4,
 "nbformat_minor": 5
}
